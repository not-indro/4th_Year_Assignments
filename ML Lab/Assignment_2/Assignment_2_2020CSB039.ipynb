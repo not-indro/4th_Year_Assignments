{
  "nbformat": 4,
  "nbformat_minor": 0,
  "metadata": {
    "colab": {
      "provenance": []
    },
    "kernelspec": {
      "name": "python3",
      "display_name": "Python 3"
    },
    "language_info": {
      "name": "python"
    }
  },
  "cells": [
    {
      "cell_type": "markdown",
      "source": [
        "##**Indranil Bain**\n",
        "##**2020CSB039**\n",
        "##**Assignment-2, Cancer Wisconsin (Diagnostic)**"
      ],
      "metadata": {
        "id": "PqDRnalvomLP"
      }
    },
    {
      "cell_type": "markdown",
      "source": [
        "**Installing Open Datasets**"
      ],
      "metadata": {
        "id": "-tSHfP9cpjTj"
      }
    },
    {
      "cell_type": "code",
      "execution_count": null,
      "metadata": {
        "colab": {
          "base_uri": "https://localhost:8080/"
        },
        "id": "mYRkfFnfnOam",
        "outputId": "e13d49bd-a8a0-4d1a-f947-6df473a876d2"
      },
      "outputs": [
        {
          "output_type": "stream",
          "name": "stdout",
          "text": [
            "Requirement already satisfied: opendatasets in /usr/local/lib/python3.10/dist-packages (0.1.22)\n",
            "Requirement already satisfied: tqdm in /usr/local/lib/python3.10/dist-packages (from opendatasets) (4.66.1)\n",
            "Requirement already satisfied: kaggle in /usr/local/lib/python3.10/dist-packages (from opendatasets) (1.5.16)\n",
            "Requirement already satisfied: click in /usr/local/lib/python3.10/dist-packages (from opendatasets) (8.1.7)\n",
            "Requirement already satisfied: six>=1.10 in /usr/local/lib/python3.10/dist-packages (from kaggle->opendatasets) (1.16.0)\n",
            "Requirement already satisfied: certifi in /usr/local/lib/python3.10/dist-packages (from kaggle->opendatasets) (2023.7.22)\n",
            "Requirement already satisfied: python-dateutil in /usr/local/lib/python3.10/dist-packages (from kaggle->opendatasets) (2.8.2)\n",
            "Requirement already satisfied: requests in /usr/local/lib/python3.10/dist-packages (from kaggle->opendatasets) (2.31.0)\n",
            "Requirement already satisfied: python-slugify in /usr/local/lib/python3.10/dist-packages (from kaggle->opendatasets) (8.0.1)\n",
            "Requirement already satisfied: urllib3 in /usr/local/lib/python3.10/dist-packages (from kaggle->opendatasets) (2.0.4)\n",
            "Requirement already satisfied: bleach in /usr/local/lib/python3.10/dist-packages (from kaggle->opendatasets) (6.0.0)\n",
            "Requirement already satisfied: webencodings in /usr/local/lib/python3.10/dist-packages (from bleach->kaggle->opendatasets) (0.5.1)\n",
            "Requirement already satisfied: text-unidecode>=1.3 in /usr/local/lib/python3.10/dist-packages (from python-slugify->kaggle->opendatasets) (1.3)\n",
            "Requirement already satisfied: charset-normalizer<4,>=2 in /usr/local/lib/python3.10/dist-packages (from requests->kaggle->opendatasets) (3.2.0)\n",
            "Requirement already satisfied: idna<4,>=2.5 in /usr/local/lib/python3.10/dist-packages (from requests->kaggle->opendatasets) (3.4)\n"
          ]
        }
      ],
      "source": [
        "pip install opendatasets"
      ]
    },
    {
      "cell_type": "markdown",
      "source": [
        " **Downloading dataset from kaggle ----**"
      ],
      "metadata": {
        "id": "VL-MFL1oq7pL"
      }
    },
    {
      "cell_type": "code",
      "source": [
        "import opendatasets as od\n",
        "od.download('https://www.kaggle.com/datasets/uciml/breast-cancer-wisconsin-data/')"
      ],
      "metadata": {
        "colab": {
          "base_uri": "https://localhost:8080/"
        },
        "id": "AoS6tHFMrFyN",
        "outputId": "d797ba47-31e7-4c3e-bfbf-d0256795cbd9"
      },
      "execution_count": null,
      "outputs": [
        {
          "output_type": "stream",
          "name": "stdout",
          "text": [
            "Please provide your Kaggle credentials to download this dataset. Learn more: http://bit.ly/kaggle-creds\n",
            "Your Kaggle username: indranilbain\n",
            "Your Kaggle Key: ··········\n",
            "Downloading breast-cancer-wisconsin-data.zip to ./breast-cancer-wisconsin-data\n"
          ]
        },
        {
          "output_type": "stream",
          "name": "stderr",
          "text": [
            "100%|██████████| 48.6k/48.6k [00:00<00:00, 36.5MB/s]"
          ]
        },
        {
          "output_type": "stream",
          "name": "stdout",
          "text": [
            "\n"
          ]
        },
        {
          "output_type": "stream",
          "name": "stderr",
          "text": [
            "\n"
          ]
        }
      ]
    },
    {
      "cell_type": "code",
      "source": [
        "!pwd\n"
      ],
      "metadata": {
        "colab": {
          "base_uri": "https://localhost:8080/"
        },
        "id": "XxqWMO8srVdE",
        "outputId": "c52653c4-1083-4419-ac99-a3164b2f1948"
      },
      "execution_count": null,
      "outputs": [
        {
          "output_type": "stream",
          "name": "stdout",
          "text": [
            "/content/breast-cancer-wisconsin-data\n"
          ]
        }
      ]
    },
    {
      "cell_type": "code",
      "source": [
        "%cd breast-cancer-wisconsin-data"
      ],
      "metadata": {
        "colab": {
          "base_uri": "https://localhost:8080/"
        },
        "id": "VVnzACKkrXcS",
        "outputId": "ea2ceb38-96fd-44e3-9392-ea4d614e40de"
      },
      "execution_count": null,
      "outputs": [
        {
          "output_type": "stream",
          "name": "stdout",
          "text": [
            "/content/breast-cancer-wisconsin-data/breast-cancer-wisconsin-data\n"
          ]
        }
      ]
    },
    {
      "cell_type": "code",
      "source": [
        "!pwd"
      ],
      "metadata": {
        "colab": {
          "base_uri": "https://localhost:8080/"
        },
        "id": "dMQqGc2sreN4",
        "outputId": "094a2ce9-9ef3-4d0c-8d4c-0a5a140f769f"
      },
      "execution_count": null,
      "outputs": [
        {
          "output_type": "stream",
          "name": "stdout",
          "text": [
            "/content/breast-cancer-wisconsin-data/breast-cancer-wisconsin-data\n"
          ]
        }
      ]
    },
    {
      "cell_type": "markdown",
      "source": [
        "**(1) Implement Logistic regression using scikit-learn package in python after\n",
        "splitting the dataset 80:10:10 percent (use seed = 5 for splitting).**"
      ],
      "metadata": {
        "id": "NBzxgDL-s-y3"
      }
    },
    {
      "cell_type": "code",
      "source": [
        "import pandas as pd\n",
        "from sklearn.model_selection import train_test_split\n",
        "from sklearn.linear_model import LogisticRegression\n",
        "import joblib"
      ],
      "metadata": {
        "id": "A_JJ9_INrf0_"
      },
      "execution_count": null,
      "outputs": []
    },
    {
      "cell_type": "code",
      "source": [
        "data = pd.read_csv('data.csv')\n",
        "data = data.dropna(axis=1)\n",
        "\n",
        "X = data.drop(columns=['diagnosis'])\n",
        "y = data['diagnosis']\n",
        "X_train, X_temp, y_train, y_temp = train_test_split(X, y, test_size=0.2, random_state=5)\n",
        "X_val, X_test, y_val, y_test = train_test_split(X_temp, y_temp, test_size=0.5, random_state=5)\n",
        "\n",
        "model = LogisticRegression()\n",
        "model.fit(X_train, y_train)\n",
        "joblib.dump(model, 'model_1.joblib')"
      ],
      "metadata": {
        "colab": {
          "base_uri": "https://localhost:8080/"
        },
        "id": "oUQb_VKorniu",
        "outputId": "6dbe58e9-3fce-4ee0-e56f-860fff7cc8fe"
      },
      "execution_count": null,
      "outputs": [
        {
          "output_type": "execute_result",
          "data": {
            "text/plain": [
              "['model_1.joblib']"
            ]
          },
          "metadata": {},
          "execution_count": 19
        }
      ]
    },
    {
      "cell_type": "markdown",
      "source": [
        "1. Loaded data from 'data.csv' and drop columns with missing values.\n",
        "2. Prepared features (X) and target variable (y).\n",
        "3. Split data into training, validation, and test sets (80-10-10).\n",
        "4. Created and train a logistic regression model.\n",
        "5. Saved the trained model as 'model_1.joblib'."
      ],
      "metadata": {
        "id": "nwo0mygpxnzX"
      }
    },
    {
      "cell_type": "markdown",
      "source": [
        "**(2) Use ‘newton-cg’, ‘lbfgs’, ‘liblinear’ solver to train the Logistic regression\n",
        "model, and create a table for the coefficients of all the features along with\n",
        "accuracy.**"
      ],
      "metadata": {
        "id": "nbR1a1yQtJnZ"
      }
    },
    {
      "cell_type": "code",
      "source": [
        "from sklearn.metrics import accuracy_score\n",
        "solvers = ['newton-cg', 'lbfgs', 'liblinear']\n",
        "resultsCoefficients = []\n",
        "resultsAccuracy = []\n",
        "\n",
        "for solver in solvers:\n",
        "    model = LogisticRegression(solver=solver)\n",
        "    model.fit(X_train, y_train)\n",
        "    y_pred = model.predict(X_test)\n",
        "\n",
        "    accuracy = accuracy_score(y_test, y_pred)\n",
        "    resultsCoefficients.append(model.coef_[0])\n",
        "    resultsAccuracy.append(accuracy)\n",
        "\n",
        "resultsCoefficients_df = pd.DataFrame(resultsCoefficients)\n",
        "resultsAccuracy_df = pd.DataFrame(resultsAccuracy)\n",
        "\n",
        "print(resultsCoefficients_df)\n",
        "print(resultsAccuracy_df)"
      ],
      "metadata": {
        "colab": {
          "base_uri": "https://localhost:8080/"
        },
        "id": "qVlG-NW1rv8v",
        "outputId": "64bcdb83-02b1-4ad8-d6c3-37379f56252a"
      },
      "execution_count": null,
      "outputs": [
        {
          "output_type": "stream",
          "name": "stderr",
          "text": [
            "/usr/local/lib/python3.10/dist-packages/scipy/optimize/_linesearch.py:457: LineSearchWarning: The line search algorithm did not converge\n",
            "  warn('The line search algorithm did not converge', LineSearchWarning)\n",
            "/usr/local/lib/python3.10/dist-packages/scipy/optimize/_linesearch.py:306: LineSearchWarning: The line search algorithm did not converge\n",
            "  warn('The line search algorithm did not converge', LineSearchWarning)\n"
          ]
        },
        {
          "output_type": "stream",
          "name": "stdout",
          "text": [
            "             0             1             2             3             4   \\\n",
            "0  7.993937e-10 -8.729785e-02  1.543279e-03 -2.359560e-01 -1.634156e-03   \n",
            "1 -1.908497e-10 -3.918059e-16 -9.479980e-16 -2.236372e-15  1.419679e-14   \n",
            "2 -3.309940e-10 -9.503721e-04 -1.746791e-03 -5.813435e-03 -7.486524e-03   \n",
            "\n",
            "             5             6             7             8             9   ...  \\\n",
            "0  8.748458e-04  8.129519e-03  1.227283e-02  5.018226e-03  1.216872e-03  ...   \n",
            "1 -5.921006e-18  1.573256e-20  7.355254e-18  3.918316e-18 -1.121517e-17  ...   \n",
            "2 -1.013261e-05 -3.383430e-06  5.882654e-06  2.953515e-06 -1.912371e-05  ...   \n",
            "\n",
            "             21            22            23            24            25  \\\n",
            "0 -9.465739e-02  8.077441e-02  4.056253e-02  2.166648e-02  2.013552e-03   \n",
            "1 -2.607977e-16 -1.157780e-15 -1.362631e-15  3.834014e-14 -7.448697e-18   \n",
            "2 -9.098914e-04 -2.218218e-03 -5.557891e-03  6.983807e-03 -1.319575e-05   \n",
            "\n",
            "             26            27            28            29            30  \n",
            "0  2.735011e-02  3.546196e-02  9.870668e-03  5.749661e-03  2.065772e-03  \n",
            "1  4.036913e-18  1.455900e-17  4.623238e-18 -1.527719e-17 -4.669505e-18  \n",
            "2 -3.742421e-06  8.281518e-06  1.494678e-06 -2.756286e-05 -8.288862e-06  \n",
            "\n",
            "[3 rows x 31 columns]\n",
            "          0\n",
            "0  0.964912\n",
            "1  0.631579\n",
            "2  0.877193\n"
          ]
        },
        {
          "output_type": "stream",
          "name": "stderr",
          "text": [
            "/usr/local/lib/python3.10/dist-packages/sklearn/utils/optimize.py:210: ConvergenceWarning: newton-cg failed to converge. Increase the number of iterations.\n",
            "  warnings.warn(\n"
          ]
        }
      ]
    },
    {
      "cell_type": "markdown",
      "source": [
        "1. Imported the necessary function ('accuracy_score ') and a list of\n",
        "solvers.\n",
        "2. Initialized empty lists to store coefficients and accuracy scores for\n",
        "different solvers.\n",
        "3. For each solver in the list:\n",
        "- Created a logistic regression model with the specified solver.\n",
        "-  Fitted the model on the training data.\n",
        "-  Predicted the target variable for the test data.\n",
        "- Calculated the accuracy score using accuracy_score.\n",
        "- Stored the model coefficients and accuracy in their respective lists.\n",
        "4. Created DataFrames from the lists of coefficients and accuracy.\n",
        "5. Printed the DataFrame containing coefficients for each solver.\n",
        "6. Printed the DataFrame containing accuracy scores for each solver."
      ],
      "metadata": {
        "id": "lzadNB770jkm"
      }
    },
    {
      "cell_type": "markdown",
      "source": [
        "**(3) Use '11', '12', 'none' penality to train the Logistic regression model, and\n",
        "create a table for the coefficients of all the features along with accuracy.**"
      ],
      "metadata": {
        "id": "qk5EktoBtaiy"
      }
    },
    {
      "cell_type": "code",
      "source": [
        "penalty_types = ['l1', 'l2', 'none']\n",
        "resultsCoefficient = []\n",
        "resultsAccuracy = []\n",
        "\n",
        "for penalty in penalty_types:\n",
        "    model = LogisticRegression(penalty=penalty, solver = 'saga')\n",
        "    model.fit(X_train, y_train)\n",
        "    y_pred = model.predict(X_test)\n",
        "    accuracy = accuracy_score(y_test, y_pred)\n",
        "    resultsCoefficient.append(model.coef_[0])\n",
        "    resultsAccuracy.append(accuracy)\n",
        "\n",
        "resultsCoefficient_df = pd.DataFrame(resultsCoefficient)\n",
        "resultsAccuracy_df = pd.DataFrame(resultsAccuracy)\n",
        "\n",
        "print(resultsCoefficient_df)\n",
        "print(resultsAccuracy_df)"
      ],
      "metadata": {
        "colab": {
          "base_uri": "https://localhost:8080/"
        },
        "id": "uc3U0SUXryJF",
        "outputId": "9af748cf-6d6a-434d-9f00-d2afd358299c"
      },
      "execution_count": null,
      "outputs": [
        {
          "output_type": "stream",
          "name": "stdout",
          "text": [
            "             0             1             2             3             4   \\\n",
            "0 -1.908507e-10 -8.070995e-14 -1.967176e-13 -4.609907e-13  3.031116e-12   \n",
            "1 -1.908507e-10 -8.064491e-14 -1.966741e-13 -4.590482e-13  3.048963e-12   \n",
            "2 -1.908507e-10 -8.119522e-14 -1.975674e-13 -4.627028e-13  3.026400e-12   \n",
            "\n",
            "             5             6             7             8             9   ...  \\\n",
            "0 -9.920320e-16  0.000000e+00  1.307015e-15  5.842814e-16 -2.095745e-15  ...   \n",
            "1 -1.232603e-15  1.402813e-17  1.553799e-15  8.269773e-16 -2.335229e-15  ...   \n",
            "2 -1.236010e-15  7.705427e-18  1.544801e-15  8.241026e-16 -2.342353e-15  ...   \n",
            "\n",
            "             21            22            23            24            25  \\\n",
            "0 -5.302535e-14 -2.400974e-13 -2.764720e-13  8.116597e-12 -1.309080e-15   \n",
            "1 -5.293336e-14 -2.401224e-13 -2.740921e-13  8.135580e-12 -1.548653e-15   \n",
            "2 -5.364227e-14 -2.411693e-13 -2.788066e-13  8.097394e-12 -1.553571e-15   \n",
            "\n",
            "             26            27            28            29            30  \n",
            "0  6.219165e-16  2.829134e-15  7.376388e-16 -2.935392e-15 -7.321932e-16  \n",
            "1  8.760038e-16  3.092165e-15  9.839957e-16 -3.176270e-15 -9.712358e-16  \n",
            "2  8.603904e-16  3.062692e-15  9.755720e-16 -3.185960e-15 -9.751422e-16  \n",
            "\n",
            "[3 rows x 31 columns]\n",
            "          0\n",
            "0  0.631579\n",
            "1  0.631579\n",
            "2  0.631579\n"
          ]
        },
        {
          "output_type": "stream",
          "name": "stderr",
          "text": [
            "/usr/local/lib/python3.10/dist-packages/sklearn/linear_model/_sag.py:350: ConvergenceWarning: The max_iter was reached which means the coef_ did not converge\n",
            "  warnings.warn(\n",
            "/usr/local/lib/python3.10/dist-packages/sklearn/linear_model/_sag.py:350: ConvergenceWarning: The max_iter was reached which means the coef_ did not converge\n",
            "  warnings.warn(\n",
            "/usr/local/lib/python3.10/dist-packages/sklearn/linear_model/_logistic.py:1173: FutureWarning: `penalty='none'`has been deprecated in 1.2 and will be removed in 1.4. To keep the past behaviour, set `penalty=None`.\n",
            "  warnings.warn(\n",
            "/usr/local/lib/python3.10/dist-packages/sklearn/linear_model/_sag.py:350: ConvergenceWarning: The max_iter was reached which means the coef_ did not converge\n",
            "  warnings.warn(\n"
          ]
        }
      ]
    },
    {
      "cell_type": "markdown",
      "source": [
        "1. Initialized a list of penalty types (*11', '12', \"none\").\n",
        "2. Created empty lists to store coefficients and accuracy scores for\n",
        "different penalty types.\n",
        "3. For each penalty type in the list:\n",
        "-  Createed a logistic regression model with the specified penalty type\n",
        "and 'saga' solver.\n",
        "- Fitted the model on the training data.\n",
        "- Predicted the target variable for the test data.\n",
        "- Calculated the accuracy score using accuracy_score\n",
        "- Stored the model coefficients and accuracy in their respective lists.\n",
        "4. Converted the lists of coefficients and accuracy into DataFrames.\n",
        "5. Printed the DataFrame containing coefficients for each penalty type.\n",
        "6. Printed the DataFrame containing accuracy scores for each penalty\n",
        "type."
      ],
      "metadata": {
        "id": "HMoYwfJ502z7"
      }
    },
    {
      "cell_type": "markdown",
      "source": [
        "**(4) Vary the 11 penalty over the range (O.1, 0.25, 0.75, 0.9) and compare the\n",
        "coefficients of the features.**"
      ],
      "metadata": {
        "id": "KFgW83NmthI1"
      }
    },
    {
      "cell_type": "code",
      "source": [
        "penalty_values = [0.1, 0.25, 0.75, 0.9]\n",
        "resultsCoefficient = []\n",
        "\n",
        "for penalty in penalty_values:\n",
        "    model = LogisticRegression(penalty='l1', solver='liblinear', C=1/penalty)\n",
        "    model.fit(X_train, y_train)\n",
        "    resultsCoefficient.append(model.coef_[0])\n",
        "\n",
        "resultsCoefficient_df = pd.DataFrame(resultsCoefficient)\n",
        "print(resultsCoefficient_df)"
      ],
      "metadata": {
        "colab": {
          "base_uri": "https://localhost:8080/"
        },
        "id": "2jrrPQakr3iq",
        "outputId": "6f61b5b0-b6b1-443c-99dc-b3411d3531ad"
      },
      "execution_count": null,
      "outputs": [
        {
          "output_type": "stream",
          "name": "stdout",
          "text": [
            "             0         1         2         3         4    5    6         7   \\\n",
            "0  1.504984e-09 -0.561923 -0.084941 -0.072656  0.008627  0.0  0.0  3.559578   \n",
            "1  1.458909e-09 -1.216591 -0.136354 -0.060797  0.014546  0.0  0.0  0.000000   \n",
            "2  1.108188e-09 -1.089614 -0.124841 -0.093950  0.009830  0.0  0.0  0.000000   \n",
            "3  1.024503e-09 -0.936213 -0.115055 -0.090469  0.007492  0.0  0.0  0.000000   \n",
            "\n",
            "    8    9   ...        21        22        23        24         25        26  \\\n",
            "0  0.0  0.0  ... -0.226675  0.533730 -0.053063  0.015121  14.365525 -3.358947   \n",
            "1  0.0  0.0  ... -0.518367  0.523072 -0.089884  0.020070   0.000000  0.000000   \n",
            "2  0.0  0.0  ... -0.488690  0.419881 -0.020213  0.019817   0.000000  0.000000   \n",
            "3  0.0  0.0  ... -0.445785  0.379157 -0.017614  0.019135   0.000000  0.000000   \n",
            "\n",
            "         27         28        29   30  \n",
            "0  6.654452  28.703416  8.271737  0.0  \n",
            "1  7.372096  16.965800  4.423011  0.0  \n",
            "2  7.703030   0.000000  0.000000  0.0  \n",
            "3  7.043409   0.000000  0.000000  0.0  \n",
            "\n",
            "[4 rows x 31 columns]\n"
          ]
        }
      ]
    },
    {
      "cell_type": "markdown",
      "source": [
        "1. Initialized a list of penalty values (*0.1', '0.25', '0.75', '0.9°)\n",
        "2. Created an empty list to store coefficients for different penalty values.\n",
        "3. For each penalty value in the list:\n",
        "- Created a logistic regression model with L1 penalty (''), 'liblinear'\n",
        "solver, and regularization parameter 'C' calculated as\n",
        "'1/penalty'.\n",
        "- Fitted the model on the training data.\n",
        "- Stored the model coefficients in the list.\n",
        "4. Converted the list of coefficients into a DataFrame.\n",
        "5. Printed the DataFrame containing coefficients for each penalty value."
      ],
      "metadata": {
        "id": "iIXPR6pL1Bga"
      }
    },
    {
      "cell_type": "markdown",
      "source": [
        "**(5) Estimate the average accuracy of the Naive Bayes algorithm using 5-fold\n",
        "cross-validation using a scikit-learn package in python. Plot the bar graph\n",
        "using matplotlib**"
      ],
      "metadata": {
        "id": "ktbn2bWItm9f"
      }
    },
    {
      "cell_type": "code",
      "source": [
        "from sklearn.model_selection import cross_val_score\n",
        "from sklearn.naive_bayes import GaussianNB\n",
        "import matplotlib.pyplot as plt\n",
        "\n",
        "naive_bayes_model = GaussianNB()\n",
        "\n",
        "cross_val_scores = cross_val_score(naive_bayes_model, X, y, cv=5)\n",
        "\n",
        "average_accuracy = cross_val_scores.mean()\n",
        "print('Average accuracy:',average_accuracy)\n",
        "\n",
        "plt.bar(range(1, 6), cross_val_scores)\n",
        "plt.axhline(y=average_accuracy, linestyle='--')\n",
        "plt.xlabel('Fold')\n",
        "plt.ylabel('Accuracy')\n",
        "plt.title('5-Fold Cross-Validation for Naive Bayes')\n",
        "plt.show()"
      ],
      "metadata": {
        "colab": {
          "base_uri": "https://localhost:8080/",
          "height": 490
        },
        "id": "t1jgF9d6r8I6",
        "outputId": "6d3b81bd-c437-448f-a085-6052bf35a156"
      },
      "execution_count": null,
      "outputs": [
        {
          "output_type": "stream",
          "name": "stdout",
          "text": [
            "Average accuracy: 0.6204005589194225\n"
          ]
        },
        {
          "output_type": "display_data",
          "data": {
            "text/plain": [
              "<Figure size 640x480 with 1 Axes>"
            ],
            "image/png": "[encoded data removed]"
          },
          "metadata": {}
        }
      ]
    },
    {
      "cell_type": "markdown",
      "source": [
        "1. Import necessary modules: 'cross_val_score ' from\n",
        "sklearn model_selection', 'GaussianNB' from\n",
        "sklearn.naive_bayes', and 'matplotlib-pyplot' as 'plt'.\n",
        "2. Created a Gaussian Naive Bayes model (naive bayes_model\").\n",
        "3. Used 5-fold cross-validation to compute accuracy scores\n",
        "( cross_val_scores ') for the Naive Bayes model on the data ('X',\n",
        "'y').\n",
        "4. Calculated the average accuracy by computing the mean of the cross-\n",
        "validation scores.\n",
        "5. Printed the average accuracy.\n",
        "6. Created a bar plot of the cross-validation scores with the average\n",
        "accuracy line.\n",
        "- X-axis represents folds (1 to 5).\n",
        "- Y-axis represents accuracy.\n",
        "- Dashed line represents the average accuracy.\n",
        "7. Label the plot's axes and give it a title.\n",
        "8. Displayed the plot using 'pIt.show()'."
      ],
      "metadata": {
        "id": "-g-I_SuW1QHG"
      }
    }
  ]
}